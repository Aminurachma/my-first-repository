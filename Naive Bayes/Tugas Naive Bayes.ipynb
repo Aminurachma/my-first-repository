{
 "cells": [
  {
   "cell_type": "code",
   "execution_count": 3,
   "metadata": {},
   "outputs": [],
   "source": [
    "import numpy as np\n",
    "import pandas as pd\n",
    "import matplotlib.pyplot as plt"
   ]
  },
  {
   "cell_type": "code",
   "execution_count": 4,
   "metadata": {},
   "outputs": [],
   "source": [
    "data = pd.read_excel('C:/Users/Aminurachma Aisyah/Documents/dataset_shopping.xlsx')"
   ]
  },
  {
   "cell_type": "code",
   "execution_count": 5,
   "metadata": {},
   "outputs": [
    {
     "data": {
      "text/html": [
       "<div>\n",
       "<style scoped>\n",
       "    .dataframe tbody tr th:only-of-type {\n",
       "        vertical-align: middle;\n",
       "    }\n",
       "\n",
       "    .dataframe tbody tr th {\n",
       "        vertical-align: top;\n",
       "    }\n",
       "\n",
       "    .dataframe thead th {\n",
       "        text-align: right;\n",
       "    }\n",
       "</style>\n",
       "<table border=\"1\" class=\"dataframe\">\n",
       "  <thead>\n",
       "    <tr style=\"text-align: right;\">\n",
       "      <th></th>\n",
       "      <th>Day</th>\n",
       "      <th>Discount</th>\n",
       "      <th>Free Delivery</th>\n",
       "      <th>Buy</th>\n",
       "    </tr>\n",
       "  </thead>\n",
       "  <tbody>\n",
       "    <tr>\n",
       "      <th>0</th>\n",
       "      <td>Holiday</td>\n",
       "      <td>No</td>\n",
       "      <td>No</td>\n",
       "      <td>No</td>\n",
       "    </tr>\n",
       "    <tr>\n",
       "      <th>1</th>\n",
       "      <td>Holiday</td>\n",
       "      <td>No</td>\n",
       "      <td>No</td>\n",
       "      <td>No</td>\n",
       "    </tr>\n",
       "    <tr>\n",
       "      <th>2</th>\n",
       "      <td>Weekday</td>\n",
       "      <td>No</td>\n",
       "      <td>No</td>\n",
       "      <td>No</td>\n",
       "    </tr>\n",
       "    <tr>\n",
       "      <th>3</th>\n",
       "      <td>Weekend</td>\n",
       "      <td>No</td>\n",
       "      <td>No</td>\n",
       "      <td>No</td>\n",
       "    </tr>\n",
       "    <tr>\n",
       "      <th>4</th>\n",
       "      <td>Holiday</td>\n",
       "      <td>No</td>\n",
       "      <td>Yes</td>\n",
       "      <td>No</td>\n",
       "    </tr>\n",
       "  </tbody>\n",
       "</table>\n",
       "</div>"
      ],
      "text/plain": [
       "       Day Discount Free Delivery Buy\n",
       "0  Holiday       No            No  No\n",
       "1  Holiday       No            No  No\n",
       "2  Weekday       No            No  No\n",
       "3  Weekend       No            No  No\n",
       "4  Holiday       No           Yes  No"
      ]
     },
     "execution_count": 5,
     "metadata": {},
     "output_type": "execute_result"
    }
   ],
   "source": [
    "data.head()"
   ]
  },
  {
   "cell_type": "code",
   "execution_count": 6,
   "metadata": {},
   "outputs": [
    {
     "data": {
      "text/plain": [
       "(30, 4)"
      ]
     },
     "execution_count": 6,
     "metadata": {},
     "output_type": "execute_result"
    }
   ],
   "source": [
    "data.shape"
   ]
  },
  {
   "cell_type": "code",
   "execution_count": 7,
   "metadata": {},
   "outputs": [
    {
     "data": {
      "text/plain": [
       "Yes    24\n",
       "No      6\n",
       "Name: Buy, dtype: int64"
      ]
     },
     "execution_count": 7,
     "metadata": {},
     "output_type": "execute_result"
    }
   ],
   "source": [
    "data['Buy'].value_counts()"
   ]
  },
  {
   "cell_type": "code",
   "execution_count": 8,
   "metadata": {},
   "outputs": [],
   "source": [
    "PYes = 24/30\n",
    "PNo = 6/30"
   ]
  },
  {
   "cell_type": "code",
   "execution_count": 9,
   "metadata": {},
   "outputs": [
    {
     "name": "stdout",
     "output_type": "stream",
     "text": [
      "0.8\n"
     ]
    }
   ],
   "source": [
    "print(PYes)"
   ]
  },
  {
   "cell_type": "code",
   "execution_count": 10,
   "metadata": {},
   "outputs": [
    {
     "name": "stdout",
     "output_type": "stream",
     "text": [
      "0.2\n"
     ]
    }
   ],
   "source": [
    "print(PNo)"
   ]
  },
  {
   "cell_type": "code",
   "execution_count": 11,
   "metadata": {},
   "outputs": [
    {
     "data": {
      "text/html": [
       "<div>\n",
       "<style scoped>\n",
       "    .dataframe tbody tr th:only-of-type {\n",
       "        vertical-align: middle;\n",
       "    }\n",
       "\n",
       "    .dataframe tbody tr th {\n",
       "        vertical-align: top;\n",
       "    }\n",
       "\n",
       "    .dataframe thead th {\n",
       "        text-align: right;\n",
       "    }\n",
       "</style>\n",
       "<table border=\"1\" class=\"dataframe\">\n",
       "  <thead>\n",
       "    <tr style=\"text-align: right;\">\n",
       "      <th>Buy</th>\n",
       "      <th>No</th>\n",
       "      <th>Yes</th>\n",
       "    </tr>\n",
       "    <tr>\n",
       "      <th>Day</th>\n",
       "      <th></th>\n",
       "      <th></th>\n",
       "    </tr>\n",
       "  </thead>\n",
       "  <tbody>\n",
       "    <tr>\n",
       "      <th>Holiday</th>\n",
       "      <td>3</td>\n",
       "      <td>8</td>\n",
       "    </tr>\n",
       "    <tr>\n",
       "      <th>Weekday</th>\n",
       "      <td>2</td>\n",
       "      <td>9</td>\n",
       "    </tr>\n",
       "    <tr>\n",
       "      <th>Weekend</th>\n",
       "      <td>1</td>\n",
       "      <td>7</td>\n",
       "    </tr>\n",
       "  </tbody>\n",
       "</table>\n",
       "</div>"
      ],
      "text/plain": [
       "Buy      No  Yes\n",
       "Day             \n",
       "Holiday   3    8\n",
       "Weekday   2    9\n",
       "Weekend   1    7"
      ]
     },
     "execution_count": 11,
     "metadata": {},
     "output_type": "execute_result"
    }
   ],
   "source": [
    "pd.crosstab(data['Day'], data['Buy'])"
   ]
  },
  {
   "cell_type": "code",
   "execution_count": 12,
   "metadata": {},
   "outputs": [
    {
     "data": {
      "text/html": [
       "<div>\n",
       "<style scoped>\n",
       "    .dataframe tbody tr th:only-of-type {\n",
       "        vertical-align: middle;\n",
       "    }\n",
       "\n",
       "    .dataframe tbody tr th {\n",
       "        vertical-align: top;\n",
       "    }\n",
       "\n",
       "    .dataframe thead th {\n",
       "        text-align: right;\n",
       "    }\n",
       "</style>\n",
       "<table border=\"1\" class=\"dataframe\">\n",
       "  <thead>\n",
       "    <tr style=\"text-align: right;\">\n",
       "      <th>Buy</th>\n",
       "      <th>No</th>\n",
       "      <th>Yes</th>\n",
       "    </tr>\n",
       "    <tr>\n",
       "      <th>Discount</th>\n",
       "      <th></th>\n",
       "      <th></th>\n",
       "    </tr>\n",
       "  </thead>\n",
       "  <tbody>\n",
       "    <tr>\n",
       "      <th>No</th>\n",
       "      <td>5</td>\n",
       "      <td>5</td>\n",
       "    </tr>\n",
       "    <tr>\n",
       "      <th>Yes</th>\n",
       "      <td>1</td>\n",
       "      <td>19</td>\n",
       "    </tr>\n",
       "  </tbody>\n",
       "</table>\n",
       "</div>"
      ],
      "text/plain": [
       "Buy       No  Yes\n",
       "Discount         \n",
       "No         5    5\n",
       "Yes        1   19"
      ]
     },
     "execution_count": 12,
     "metadata": {},
     "output_type": "execute_result"
    }
   ],
   "source": [
    "pd.crosstab(data['Discount'], data['Buy'])"
   ]
  },
  {
   "cell_type": "code",
   "execution_count": 13,
   "metadata": {},
   "outputs": [
    {
     "data": {
      "text/html": [
       "<div>\n",
       "<style scoped>\n",
       "    .dataframe tbody tr th:only-of-type {\n",
       "        vertical-align: middle;\n",
       "    }\n",
       "\n",
       "    .dataframe tbody tr th {\n",
       "        vertical-align: top;\n",
       "    }\n",
       "\n",
       "    .dataframe thead th {\n",
       "        text-align: right;\n",
       "    }\n",
       "</style>\n",
       "<table border=\"1\" class=\"dataframe\">\n",
       "  <thead>\n",
       "    <tr style=\"text-align: right;\">\n",
       "      <th>Buy</th>\n",
       "      <th>No</th>\n",
       "      <th>Yes</th>\n",
       "    </tr>\n",
       "    <tr>\n",
       "      <th>Free Delivery</th>\n",
       "      <th></th>\n",
       "      <th></th>\n",
       "    </tr>\n",
       "  </thead>\n",
       "  <tbody>\n",
       "    <tr>\n",
       "      <th>No</th>\n",
       "      <td>4</td>\n",
       "      <td>3</td>\n",
       "    </tr>\n",
       "    <tr>\n",
       "      <th>Yes</th>\n",
       "      <td>2</td>\n",
       "      <td>21</td>\n",
       "    </tr>\n",
       "  </tbody>\n",
       "</table>\n",
       "</div>"
      ],
      "text/plain": [
       "Buy            No  Yes\n",
       "Free Delivery         \n",
       "No              4    3\n",
       "Yes             2   21"
      ]
     },
     "execution_count": 13,
     "metadata": {},
     "output_type": "execute_result"
    }
   ],
   "source": [
    "pd.crosstab(data['Free Delivery'], data['Buy'])"
   ]
  },
  {
   "cell_type": "code",
   "execution_count": 14,
   "metadata": {},
   "outputs": [],
   "source": [
    "PHolidayNo = 3/6\n",
    "PWeekdayNo = 2/6\n",
    "PWeekendNo = 1/6\n",
    "\n",
    "PHolidayYes = 8/24\n",
    "PWeekdayYes = 9/24\n",
    "PWeekendYes = 7/24\n",
    "\n",
    "PHoliday = 11/30\n",
    "PWeekday = 11/30\n",
    "PWeekend = 8/30"
   ]
  },
  {
   "cell_type": "code",
   "execution_count": 15,
   "metadata": {},
   "outputs": [],
   "source": [
    "PNoDiscountNo = 5/6\n",
    "PYesDiscountNo = 1/6\n",
    "\n",
    "PNoDiscountYes = 5/24\n",
    "PYesDiscountYes = 19/24\n",
    "\n",
    "PNoDiscount = 10/30\n",
    "PYesDiscount = 20/30\n"
   ]
  },
  {
   "cell_type": "code",
   "execution_count": 19,
   "metadata": {},
   "outputs": [],
   "source": [
    "PNoDeliveryNo = 4/6\n",
    "PYesDeliveryNo = 2/6\n",
    "\n",
    "PNoDeliveryYes = 3/24\n",
    "PYesDeliveryYes = 21/24\n",
    "\n",
    "PNoDelivery = 7/30\n",
    "PYesDelivery = 23/30"
   ]
  },
  {
   "cell_type": "code",
   "execution_count": 44,
   "metadata": {},
   "outputs": [
    {
     "name": "stdout",
     "output_type": "stream",
     "text": [
      "1.108880928853755\n"
     ]
    }
   ],
   "source": [
    "#Soal Nomer 1\n",
    "\n",
    "#P(A)  = PYes\n",
    "#P(B)  = PWeekdayYes, PYesDeliveryYes, PYesDiscountYes\n",
    "#P(B)1 = PWeekday\n",
    "#P(B)2 = PYesDelivery\n",
    "#P(B)3 = PYesDiscount\n",
    "\n",
    "#Ditanya P(A|B) ?\n",
    "#Rumus\n",
    "# P(A|B) = P(B|A)*P(A)/P(B)\n",
    "\n",
    "#Jawaban :\n",
    "\n",
    "PYesBuy1 = ((PWeekdayYes*PYesDeliveryYes*PYesDiscountYes)*PYes)/(PWeekday*PYesDiscount*PYesDelivery)\n",
    "print(PYesBuy1)"
   ]
  },
  {
   "cell_type": "code",
   "execution_count": 45,
   "metadata": {},
   "outputs": [
    {
     "name": "stdout",
     "output_type": "stream",
     "text": [
      "0.27394480519480524\n"
     ]
    }
   ],
   "source": [
    "#Soal Nomer 2\n",
    "\n",
    "#P(A)  = PYes\n",
    "#P(B)  = PWeekdayYes, PNoDeliveryYes, PNoDiscountYes\n",
    "#P(B)1 = PWeekday\n",
    "#P(B)2 = PNoDelivery\n",
    "#P(B)3 = PNoDiscount\n",
    "\n",
    "#Ditanya P(A|B) ?\n",
    "#Rumus\n",
    "# P(A|B) = P(B|A)*P(A)/P(B)\n",
    "\n",
    "#Jawaban :\n",
    "\n",
    "PYesBuy2 = ((PWeekdayYes*PNoDeliveryYes*PNoDiscountYes)*PYes)/(PWeekday*PNoDiscount*PNoDelivery)\n",
    "print(PYesBuy2)"
   ]
  },
  {
   "cell_type": "code",
   "execution_count": 46,
   "metadata": {},
   "outputs": [
    {
     "name": "stdout",
     "output_type": "stream",
     "text": [
      "0.019762845849802375\n"
     ]
    }
   ],
   "source": [
    "#Soal Nomer 3\n",
    "\n",
    "#P(A)  = PNo\n",
    "#P(B)  = PWeekdayNo, PYesDeliveryNo, PYesDiscountNo\n",
    "#P(B)1 = PWeekday\n",
    "#P(B)2 = PNoDelivery\n",
    "#P(B)3 = PNoDiscount\n",
    "\n",
    "#Ditanya P(A|B) ?\n",
    "#Rumus\n",
    "# P(A|B) = P(B|A)*P(A)/P(B)\n",
    "\n",
    "#Jawaban :\n",
    "\n",
    "PNoBuy3 = ((PWeekdayNo*PYesDeliveryNo*PYesDiscountNo)*PNo)/(PWeekday*PYesDiscount*PYesDelivery)\n",
    "print(PNoBuy3)"
   ]
  },
  {
   "cell_type": "code",
   "execution_count": 47,
   "metadata": {},
   "outputs": [
    {
     "name": "stdout",
     "output_type": "stream",
     "text": [
      "1.2987012987012987\n"
     ]
    }
   ],
   "source": [
    "#Soal Nomer 4\n",
    "\n",
    "#P(A)  = PNo\n",
    "#P(B)  = PWeekdayNo, PNoDeliveryNo, PNoDiscountNo\n",
    "#P(B)1 = PWeekday\n",
    "#P(B)2 = PNoDelivery\n",
    "#P(B)3 = PNoDiscount\n",
    "\n",
    "#Ditanya P(A|B) ?\n",
    "#Rumus\n",
    "# P(A|B) = P(B|A)*P(A)/P(B)\n",
    "\n",
    "#Jawaban :\n",
    "\n",
    "PNoBuy4 = ((PWeekdayNo*PNoDeliveryNo*PNoDiscountNo)*PNo)/(PWeekday*PNoDiscount*PNoDelivery)\n",
    "print(PNoBuy4)"
   ]
  },
  {
   "cell_type": "code",
   "execution_count": 48,
   "metadata": {},
   "outputs": [
    {
     "name": "stdout",
     "output_type": "stream",
     "text": [
      "1.185886548913044\n"
     ]
    }
   ],
   "source": [
    "#Soal Nomer 5\n",
    "\n",
    "#P(A)  = PYes\n",
    "#P(B)  = PWeekendYes, PYesDeliveryYes, PYesDiscountYes\n",
    "#P(B)1 = PWeekend\n",
    "#P(B)2 = PYesDelivery\n",
    "#P(B)3 = PYesDiscount\n",
    "\n",
    "#Ditanya P(A|B) ?\n",
    "#Rumus\n",
    "# P(A|B) = P(B|A)*P(A)/P(B)\n",
    "\n",
    "#Jawaban :\n",
    "\n",
    "PYesBuy5 = ((PWeekendYes*PYesDeliveryYes*PYesDiscountYes)*PYes)/(PWeekend*PYesDiscount*PYesDelivery)\n",
    "print(PYesBuy5)"
   ]
  },
  {
   "cell_type": "code",
   "execution_count": 49,
   "metadata": {},
   "outputs": [
    {
     "name": "stdout",
     "output_type": "stream",
     "text": [
      "0.29296875000000006\n"
     ]
    }
   ],
   "source": [
    "#Soal Nomer 6\n",
    "\n",
    "#P(A)  = PYes\n",
    "#P(B)  = PWeekendYes, PNoDeliveryYes, PNoDiscountYes\n",
    "#P(B)1 = PWeekend\n",
    "#P(B)2 = PNoDelivery\n",
    "#P(B)3 = PNoDiscount\n",
    "\n",
    "#Ditanya P(A|B) ?\n",
    "#Rumus\n",
    "# P(A|B) = P(B|A)*P(A)/P(B)\n",
    "\n",
    "#Jawaban :\n",
    "\n",
    "PYesBuy6 = ((PWeekendYes*PNoDeliveryYes*PNoDiscountYes)*PYes)/(PWeekend*PNoDiscount*PNoDelivery)\n",
    "print(PYesBuy6)"
   ]
  },
  {
   "cell_type": "code",
   "execution_count": 50,
   "metadata": {},
   "outputs": [
    {
     "name": "stdout",
     "output_type": "stream",
     "text": [
      "0.013586956521739134\n"
     ]
    }
   ],
   "source": [
    "#Soal Nomer 7\n",
    "\n",
    "#P(A)  = PNo\n",
    "#P(B)  = PWeekendNo, PYesDeliveryNo, PYesDiscountNo\n",
    "#P(B)1 = PWeekend\n",
    "#P(B)2 = PNoDelivery\n",
    "#P(B)3 = PNoDiscount\n",
    "\n",
    "#Ditanya P(A|B) ?\n",
    "#Rumus\n",
    "# P(A|B) = P(B|A)*P(A)/P(B)\n",
    "\n",
    "#Jawaban :\n",
    "\n",
    "PNoBuy7 = ((PWeekendNo*PYesDeliveryNo*PYesDiscountNo)*PNo)/(PWeekend*PYesDiscount*PYesDelivery)\n",
    "print(PNoBuy7)"
   ]
  },
  {
   "cell_type": "code",
   "execution_count": 51,
   "metadata": {},
   "outputs": [
    {
     "name": "stdout",
     "output_type": "stream",
     "text": [
      "0.8928571428571428\n"
     ]
    }
   ],
   "source": [
    "#Soal Nomer 8\n",
    "\n",
    "#P(A)  = PNo\n",
    "#P(B)  = PWeekendNo, PNoDeliveryNo, PNoDiscountNo\n",
    "#P(B)1 = PWeekend\n",
    "#P(B)2 = PNoDelivery\n",
    "#P(B)3 = PNoDiscount\n",
    "\n",
    "#Ditanya P(A|B) ?\n",
    "#Rumus\n",
    "# P(A|B) = P(B|A)*P(A)/P(B)\n",
    "\n",
    "#Jawaban :\n",
    "\n",
    "PNoBuy8 = ((PWeekendNo*PNoDeliveryNo*PNoDiscountNo)*PNo)/(PWeekend*PNoDiscount*PNoDelivery)\n",
    "print(PNoBuy8)"
   ]
  },
  {
   "cell_type": "code",
   "execution_count": 56,
   "metadata": {},
   "outputs": [
    {
     "name": "stdout",
     "output_type": "stream",
     "text": [
      "1.1286437747035576\n",
      "98.24897400820792\n",
      "1.7510259917920656\n"
     ]
    }
   ],
   "source": [
    "# (PYesBuy1) Probablity of  purchase = 1.108880928853755\n",
    "#  (PNoBuy3) Probablity of No purchase = 0.019762845849802375\n",
    "\n",
    "\n",
    "PSum1 = PYesBuy1 + PNoBuy3\n",
    "print (PSum1)\n",
    "\n",
    "\n",
    "PLikehoodsoalnomer1 = (PYesBuy1/PSum1)*100\n",
    "print (PLikehoodsoalnomer1)\n",
    "\n",
    "PLikehoodsoalnomer3 = (PNoBuy3/PSum1)*100\n",
    "print (PLikehoodsoalnomer3)\n"
   ]
  },
  {
   "cell_type": "code",
   "execution_count": 57,
   "metadata": {},
   "outputs": [
    {
     "name": "stdout",
     "output_type": "stream",
     "text": [
      "1.572646103896104\n",
      "17.41935483870968\n",
      "82.58064516129032\n"
     ]
    }
   ],
   "source": [
    "# (PYesBuy2) Probablity of  purchase = 0.27394480519480524\n",
    "#  (PNoBuy4) Probablity of No purchase = 1.2987012987012987\n",
    "\n",
    "\n",
    "PSum2 = PYesBuy2 + PNoBuy4\n",
    "print (PSum2)\n",
    "\n",
    "\n",
    "PLikehoodsoalnomer2 = (PYesBuy2/PSum2)*100\n",
    "print (PLikehoodsoalnomer2)\n",
    "\n",
    "PLikehoodsoalnomer4 = (PNoBuy4/PSum2)*100\n",
    "print (PLikehoodsoalnomer4)"
   ]
  },
  {
   "cell_type": "code",
   "execution_count": 59,
   "metadata": {},
   "outputs": [
    {
     "name": "stdout",
     "output_type": "stream",
     "text": [
      "1.199473505434783\n",
      "98.86725663716815\n",
      "1.1327433628318584\n"
     ]
    }
   ],
   "source": [
    "# (PYesBuy5) Probablity of  purchase = 1.185886548913044\n",
    "#  (PNoBuy7) Probablity of No purchase = 0.013586956521739134 \n",
    "\n",
    "\n",
    "PSum3 = PYesBuy5 + PNoBuy7\n",
    "print (PSum3)\n",
    "\n",
    "\n",
    "PLikehoodsoalnomer5 = (PYesBuy5/PSum3)*100\n",
    "print (PLikehoodsoalnomer5)\n",
    "\n",
    "PLikehoodsoalnomer7 = (PNoBuy7/PSum3)*100\n",
    "print (PLikehoodsoalnomer7)"
   ]
  },
  {
   "cell_type": "code",
   "execution_count": 60,
   "metadata": {},
   "outputs": [
    {
     "name": "stdout",
     "output_type": "stream",
     "text": [
      "1.1858258928571428\n",
      "24.705882352941185\n",
      "75.29411764705883\n"
     ]
    }
   ],
   "source": [
    "# (PYesBuy6) Probablity of  purchase = 0.29296875000000006\n",
    "#  (PNoBuy8) Probablity of No purchase = 0.8928571428571428\n",
    "\n",
    "\n",
    "PSum4 = PYesBuy6 + PNoBuy8\n",
    "print (PSum4)\n",
    "\n",
    "\n",
    "PLikehoodsoalnomer6 = (PYesBuy6/PSum4)*100\n",
    "print (PLikehoodsoalnomer6)\n",
    "\n",
    "PLikehoodsoalnomer8 = (PNoBuy8/PSum4)*100\n",
    "print (PLikehoodsoalnomer8)"
   ]
  },
  {
   "cell_type": "code",
   "execution_count": null,
   "metadata": {},
   "outputs": [],
   "source": []
  }
 ],
 "metadata": {
  "kernelspec": {
   "display_name": "Python 3",
   "language": "python",
   "name": "python3"
  },
  "language_info": {
   "codemirror_mode": {
    "name": "ipython",
    "version": 3
   },
   "file_extension": ".py",
   "mimetype": "text/x-python",
   "name": "python",
   "nbconvert_exporter": "python",
   "pygments_lexer": "ipython3",
   "version": "3.7.6"
  }
 },
 "nbformat": 4,
 "nbformat_minor": 4
}
